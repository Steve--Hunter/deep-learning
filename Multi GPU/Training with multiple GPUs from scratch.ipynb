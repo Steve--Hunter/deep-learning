{
 "cells": [
  {
   "cell_type": "markdown",
   "metadata": {},
   "source": [
    "# Training with multiple GPUs from scratch\n",
    "from: https://gluon.mxnet.io/chapter07_distributed-learning/multiple-gpus-scratch.html\n",
    "Installation tips:\n",
    "Make sure install version of mxnet to matcg CUDA, e.g.\n",
    " pip install mxnet-cu92 - for CUDA 9.2 - check with AISE platform, Software versions TensorFlow 1.8.0, Python 3.6.3, CUDA 9.1.85.3, cuDNN 7.1.3 (as of Aug 2018)"
   ]
  },
  {
   "cell_type": "code",
   "execution_count": 1,
   "metadata": {},
   "outputs": [
    {
     "name": "stdout",
     "output_type": "stream",
     "text": [
      "=== workloads are pushed into the backend engine ===\n",
      "0.001441 sec\n",
      "=== workloads are finished ===\n",
      "0.164171 sec\n"
     ]
    }
   ],
   "source": [
    "from mxnet import nd\n",
    "from time import time\n",
    "\n",
    "start = time()\n",
    "x = nd.random_uniform(shape=(2000,2000))\n",
    "y = nd.dot(x, x)\n",
    "print('=== workloads are pushed into the backend engine ===\\n%f sec' % (time() - start))\n",
    "z = y.asnumpy()\n",
    "print('=== workloads are finished ===\\n%f sec' % (time() - start))"
   ]
  },
  {
   "cell_type": "code",
   "execution_count": 3,
   "metadata": {},
   "outputs": [
    {
     "name": "stdout",
     "output_type": "stream",
     "text": [
      "=== Run on GPU 0, 1, 2 and 3 in sequential ===\n",
      "time: 5.020850 sec\n",
      "=== Run on GPU 0, 1, 2 and 3 in parallel ===\n",
      "time: 0.543288 sec\n"
     ]
    }
   ],
   "source": [
    "\n",
    "from mxnet import gpu\n",
    "\n",
    "def run(x):\n",
    "    \"\"\"push 10 matrix-matrix multiplications\"\"\"\n",
    "    return [nd.dot(x,x) for i in range(10)]\n",
    "\n",
    "def wait(x):\n",
    "    \"\"\"explicitly wait until all results are ready\"\"\"\n",
    "    for y in x:\n",
    "        y.wait_to_read()\n",
    "\n",
    "x0 = nd.random_uniform(shape=(4000, 4000), ctx=gpu(0))\n",
    "x1 = x0.copyto(gpu(1))\n",
    "# modified to use 4 GPUs (K80), on GCP AISE server (AISE TensorFlow NVidia GPU Notebook)\n",
    "x2 = x0.copyto(gpu(2))\n",
    "x3 = x0.copyto(gpu(3))\n",
    "\n",
    "print('=== Run on GPU 0, 1, 2 and 3 in sequential ===')\n",
    "start = time()\n",
    "wait(run(x0))\n",
    "wait(run(x1))\n",
    "wait(run(x2))\n",
    "wait(run(x3))\n",
    "print('time: %f sec' %(time() - start))\n",
    "\n",
    "print('=== Run on GPU 0, 1, 2 and 3 in parallel ===')\n",
    "start = time()\n",
    "y0 = run(x0)\n",
    "y1 = run(x1)\n",
    "y2 = run(x2)\n",
    "y3 = run(x3)\n",
    "wait(y0)\n",
    "wait(y1)\n",
    "wait(y2)\n",
    "wait(y3)\n",
    "print('time: %f sec' %(time() - start))"
   ]
  },
  {
   "cell_type": "markdown",
   "metadata": {},
   "source": [
    "## Results\n",
    "\n",
    "__2 GPUs__\n",
    "\n",
    "=== Run on GPU 0 and 1 in sequential ===\n",
    "\n",
    "time: 2.391721 sec\n",
    "\n",
    "=== Run on GPU 0 and 1 in parallel ===\n",
    "\n",
    "time: 0.544099 sec\n",
    "\n",
    "__4 GPUs__\n",
    "\n",
    "=== Run on GPU 0, 1, 2 and 3 in sequential ===\n",
    "\n",
    "time: 5.020850 sec\n",
    "\n",
    "=== Run on GPU 0, 1, 2 and 3 in parallel ===\n",
    "\n",
    "time: 0.543288 sec\n"
   ]
  },
  {
   "cell_type": "code",
   "execution_count": null,
   "metadata": {},
   "outputs": [],
   "source": []
  }
 ],
 "metadata": {
  "kernelspec": {
   "display_name": "Python 3",
   "language": "python",
   "name": "python3"
  },
  "language_info": {
   "codemirror_mode": {
    "name": "ipython",
    "version": 3
   },
   "file_extension": ".py",
   "mimetype": "text/x-python",
   "name": "python",
   "nbconvert_exporter": "python",
   "pygments_lexer": "ipython3",
   "version": "3.6.3"
  }
 },
 "nbformat": 4,
 "nbformat_minor": 2
}
